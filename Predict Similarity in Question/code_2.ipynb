{
 "cells": [
  {
   "cell_type": "code",
   "execution_count": 40,
   "id": "72f4d19c",
   "metadata": {},
   "outputs": [],
   "source": [
    "import pandas as pd\n",
    "import numpy as np\n",
    "import seaborn as sns\n",
    "from sklearn.model_selection import train_test_split\n",
    "from sklearn.metrics import classification_report,confusion_matrix\n",
    "from wordcloud import WordCloud, STOPWORDS\n",
    "from sklearn.model_selection import cross_val_score\n",
    "from sklearn.linear_model import SGDClassifier\n",
    "from sklearn.calibration import CalibratedClassifierCV\n",
    "from sklearn.metrics import accuracy_score,log_loss\n",
    "from sklearn.metrics import roc_auc_score\n",
    "\n",
    "import matplotlib.pyplot as plt\n",
    "%matplotlib inline"
   ]
  },
  {
   "cell_type": "code",
   "execution_count": 18,
   "id": "6086d7c8",
   "metadata": {},
   "outputs": [],
   "source": [
    "import warnings\n",
    "warnings.filterwarnings(\"ignore\", category=FutureWarning)\n"
   ]
  },
  {
   "cell_type": "code",
   "execution_count": 2,
   "id": "71e1d01f",
   "metadata": {},
   "outputs": [
    {
     "data": {
      "text/html": [
       "<div>\n",
       "<style scoped>\n",
       "    .dataframe tbody tr th:only-of-type {\n",
       "        vertical-align: middle;\n",
       "    }\n",
       "\n",
       "    .dataframe tbody tr th {\n",
       "        vertical-align: top;\n",
       "    }\n",
       "\n",
       "    .dataframe thead th {\n",
       "        text-align: right;\n",
       "    }\n",
       "</style>\n",
       "<table border=\"1\" class=\"dataframe\">\n",
       "  <thead>\n",
       "    <tr style=\"text-align: right;\">\n",
       "      <th></th>\n",
       "      <th>Unnamed: 0</th>\n",
       "      <th>id</th>\n",
       "      <th>qid1</th>\n",
       "      <th>qid2</th>\n",
       "      <th>question1</th>\n",
       "      <th>question2</th>\n",
       "      <th>is_duplicate</th>\n",
       "      <th>len_q1</th>\n",
       "      <th>len_q2</th>\n",
       "      <th>common_words</th>\n",
       "      <th>...</th>\n",
       "      <th>fuzz_partial_token_sort_ratio</th>\n",
       "      <th>fuzz_token_set_ratio</th>\n",
       "      <th>fuzz_token_sort_ratio</th>\n",
       "      <th>cosine_distance</th>\n",
       "      <th>cityblock_distance</th>\n",
       "      <th>jaccard_distance</th>\n",
       "      <th>canberra_distance</th>\n",
       "      <th>euclidean_distance</th>\n",
       "      <th>minkowski_distance</th>\n",
       "      <th>braycurtis_distance</th>\n",
       "    </tr>\n",
       "  </thead>\n",
       "  <tbody>\n",
       "    <tr>\n",
       "      <th>0</th>\n",
       "      <td>0</td>\n",
       "      <td>0</td>\n",
       "      <td>1</td>\n",
       "      <td>2</td>\n",
       "      <td>what step step guide invest share market india?</td>\n",
       "      <td>what step step guide invest share market?</td>\n",
       "      <td>0</td>\n",
       "      <td>47</td>\n",
       "      <td>41</td>\n",
       "      <td>5</td>\n",
       "      <td>...</td>\n",
       "      <td>92</td>\n",
       "      <td>100</td>\n",
       "      <td>93</td>\n",
       "      <td>0.068972</td>\n",
       "      <td>5.081614</td>\n",
       "      <td>1.0</td>\n",
       "      <td>94.023324</td>\n",
       "      <td>0.371408</td>\n",
       "      <td>0.168999</td>\n",
       "      <td>0.186557</td>\n",
       "    </tr>\n",
       "    <tr>\n",
       "      <th>1</th>\n",
       "      <td>1</td>\n",
       "      <td>1</td>\n",
       "      <td>3</td>\n",
       "      <td>4</td>\n",
       "      <td>what story kohinoor (koh-i-noor) diamond?</td>\n",
       "      <td>what would happen indian government stole kohi...</td>\n",
       "      <td>0</td>\n",
       "      <td>41</td>\n",
       "      <td>77</td>\n",
       "      <td>3</td>\n",
       "      <td>...</td>\n",
       "      <td>82</td>\n",
       "      <td>91</td>\n",
       "      <td>64</td>\n",
       "      <td>0.512164</td>\n",
       "      <td>14.195119</td>\n",
       "      <td>1.0</td>\n",
       "      <td>177.588090</td>\n",
       "      <td>1.012091</td>\n",
       "      <td>0.455910</td>\n",
       "      <td>0.592655</td>\n",
       "    </tr>\n",
       "    <tr>\n",
       "      <th>2</th>\n",
       "      <td>2</td>\n",
       "      <td>2</td>\n",
       "      <td>5</td>\n",
       "      <td>6</td>\n",
       "      <td>how i increase speed internet connection using...</td>\n",
       "      <td>how internet speed increased hacking dns?</td>\n",
       "      <td>0</td>\n",
       "      <td>51</td>\n",
       "      <td>41</td>\n",
       "      <td>3</td>\n",
       "      <td>...</td>\n",
       "      <td>80</td>\n",
       "      <td>67</td>\n",
       "      <td>67</td>\n",
       "      <td>0.222009</td>\n",
       "      <td>9.055989</td>\n",
       "      <td>1.0</td>\n",
       "      <td>135.988707</td>\n",
       "      <td>0.666346</td>\n",
       "      <td>0.307828</td>\n",
       "      <td>0.342306</td>\n",
       "    </tr>\n",
       "    <tr>\n",
       "      <th>3</th>\n",
       "      <td>3</td>\n",
       "      <td>3</td>\n",
       "      <td>7</td>\n",
       "      <td>8</td>\n",
       "      <td>why i mentally lonely? how i solve it?</td>\n",
       "      <td>find remainder [math]23^{24}[/math] divided 2423?</td>\n",
       "      <td>0</td>\n",
       "      <td>38</td>\n",
       "      <td>49</td>\n",
       "      <td>0</td>\n",
       "      <td>...</td>\n",
       "      <td>29</td>\n",
       "      <td>28</td>\n",
       "      <td>25</td>\n",
       "      <td>0.650411</td>\n",
       "      <td>15.987437</td>\n",
       "      <td>1.0</td>\n",
       "      <td>192.237828</td>\n",
       "      <td>1.140536</td>\n",
       "      <td>0.506028</td>\n",
       "      <td>0.692421</td>\n",
       "    </tr>\n",
       "    <tr>\n",
       "      <th>4</th>\n",
       "      <td>4</td>\n",
       "      <td>4</td>\n",
       "      <td>9</td>\n",
       "      <td>10</td>\n",
       "      <td>which one dissolve water quikly sugar, salt, m...</td>\n",
       "      <td>which fish would survive salt water?</td>\n",
       "      <td>0</td>\n",
       "      <td>69</td>\n",
       "      <td>36</td>\n",
       "      <td>1</td>\n",
       "      <td>...</td>\n",
       "      <td>71</td>\n",
       "      <td>63</td>\n",
       "      <td>48</td>\n",
       "      <td>0.369993</td>\n",
       "      <td>12.103178</td>\n",
       "      <td>1.0</td>\n",
       "      <td>161.408435</td>\n",
       "      <td>0.860225</td>\n",
       "      <td>0.382770</td>\n",
       "      <td>0.480633</td>\n",
       "    </tr>\n",
       "  </tbody>\n",
       "</table>\n",
       "<p>5 rows × 23 columns</p>\n",
       "</div>"
      ],
      "text/plain": [
       "   Unnamed: 0  id  qid1  qid2  \\\n",
       "0           0   0     1     2   \n",
       "1           1   1     3     4   \n",
       "2           2   2     5     6   \n",
       "3           3   3     7     8   \n",
       "4           4   4     9    10   \n",
       "\n",
       "                                           question1  \\\n",
       "0    what step step guide invest share market india?   \n",
       "1          what story kohinoor (koh-i-noor) diamond?   \n",
       "2  how i increase speed internet connection using...   \n",
       "3             why i mentally lonely? how i solve it?   \n",
       "4  which one dissolve water quikly sugar, salt, m...   \n",
       "\n",
       "                                           question2  is_duplicate  len_q1  \\\n",
       "0          what step step guide invest share market?             0      47   \n",
       "1  what would happen indian government stole kohi...             0      41   \n",
       "2          how internet speed increased hacking dns?             0      51   \n",
       "3  find remainder [math]23^{24}[/math] divided 2423?             0      38   \n",
       "4               which fish would survive salt water?             0      69   \n",
       "\n",
       "   len_q2  common_words  ...  fuzz_partial_token_sort_ratio  \\\n",
       "0      41             5  ...                             92   \n",
       "1      77             3  ...                             82   \n",
       "2      41             3  ...                             80   \n",
       "3      49             0  ...                             29   \n",
       "4      36             1  ...                             71   \n",
       "\n",
       "   fuzz_token_set_ratio  fuzz_token_sort_ratio  cosine_distance  \\\n",
       "0                   100                     93         0.068972   \n",
       "1                    91                     64         0.512164   \n",
       "2                    67                     67         0.222009   \n",
       "3                    28                     25         0.650411   \n",
       "4                    63                     48         0.369993   \n",
       "\n",
       "   cityblock_distance  jaccard_distance  canberra_distance  \\\n",
       "0            5.081614               1.0          94.023324   \n",
       "1           14.195119               1.0         177.588090   \n",
       "2            9.055989               1.0         135.988707   \n",
       "3           15.987437               1.0         192.237828   \n",
       "4           12.103178               1.0         161.408435   \n",
       "\n",
       "   euclidean_distance  minkowski_distance  braycurtis_distance  \n",
       "0            0.371408            0.168999             0.186557  \n",
       "1            1.012091            0.455910             0.592655  \n",
       "2            0.666346            0.307828             0.342306  \n",
       "3            1.140536            0.506028             0.692421  \n",
       "4            0.860225            0.382770             0.480633  \n",
       "\n",
       "[5 rows x 23 columns]"
      ]
     },
     "execution_count": 2,
     "metadata": {},
     "output_type": "execute_result"
    }
   ],
   "source": [
    "df = pd.read_csv('final_features.csv')\n",
    "df.head()"
   ]
  },
  {
   "cell_type": "code",
   "execution_count": 3,
   "id": "5345399d",
   "metadata": {},
   "outputs": [
    {
     "data": {
      "text/html": [
       "<div>\n",
       "<style scoped>\n",
       "    .dataframe tbody tr th:only-of-type {\n",
       "        vertical-align: middle;\n",
       "    }\n",
       "\n",
       "    .dataframe tbody tr th {\n",
       "        vertical-align: top;\n",
       "    }\n",
       "\n",
       "    .dataframe thead th {\n",
       "        text-align: right;\n",
       "    }\n",
       "</style>\n",
       "<table border=\"1\" class=\"dataframe\">\n",
       "  <thead>\n",
       "    <tr style=\"text-align: right;\">\n",
       "      <th></th>\n",
       "      <th>is_duplicate</th>\n",
       "      <th>len_q1</th>\n",
       "      <th>len_q2</th>\n",
       "      <th>common_words</th>\n",
       "      <th>fuzz_ratio</th>\n",
       "      <th>fuzz_partial_ratio</th>\n",
       "      <th>fuzz_partial_token_set_ratio</th>\n",
       "      <th>fuzz_partial_token_sort_ratio</th>\n",
       "      <th>fuzz_token_set_ratio</th>\n",
       "      <th>fuzz_token_sort_ratio</th>\n",
       "      <th>cosine_distance</th>\n",
       "      <th>cityblock_distance</th>\n",
       "      <th>jaccard_distance</th>\n",
       "      <th>canberra_distance</th>\n",
       "      <th>euclidean_distance</th>\n",
       "      <th>minkowski_distance</th>\n",
       "      <th>braycurtis_distance</th>\n",
       "    </tr>\n",
       "  </thead>\n",
       "  <tbody>\n",
       "    <tr>\n",
       "      <th>0</th>\n",
       "      <td>0</td>\n",
       "      <td>47</td>\n",
       "      <td>41</td>\n",
       "      <td>5</td>\n",
       "      <td>93</td>\n",
       "      <td>98</td>\n",
       "      <td>100</td>\n",
       "      <td>92</td>\n",
       "      <td>100</td>\n",
       "      <td>93</td>\n",
       "      <td>0.068972</td>\n",
       "      <td>5.081614</td>\n",
       "      <td>1.0</td>\n",
       "      <td>94.023324</td>\n",
       "      <td>0.371408</td>\n",
       "      <td>0.168999</td>\n",
       "      <td>0.186557</td>\n",
       "    </tr>\n",
       "    <tr>\n",
       "      <th>1</th>\n",
       "      <td>0</td>\n",
       "      <td>41</td>\n",
       "      <td>77</td>\n",
       "      <td>3</td>\n",
       "      <td>66</td>\n",
       "      <td>85</td>\n",
       "      <td>100</td>\n",
       "      <td>82</td>\n",
       "      <td>91</td>\n",
       "      <td>64</td>\n",
       "      <td>0.512164</td>\n",
       "      <td>14.195119</td>\n",
       "      <td>1.0</td>\n",
       "      <td>177.588090</td>\n",
       "      <td>1.012091</td>\n",
       "      <td>0.455910</td>\n",
       "      <td>0.592655</td>\n",
       "    </tr>\n",
       "  </tbody>\n",
       "</table>\n",
       "</div>"
      ],
      "text/plain": [
       "   is_duplicate  len_q1  len_q2  common_words  fuzz_ratio  fuzz_partial_ratio  \\\n",
       "0             0      47      41             5          93                  98   \n",
       "1             0      41      77             3          66                  85   \n",
       "\n",
       "   fuzz_partial_token_set_ratio  fuzz_partial_token_sort_ratio  \\\n",
       "0                           100                             92   \n",
       "1                           100                             82   \n",
       "\n",
       "   fuzz_token_set_ratio  fuzz_token_sort_ratio  cosine_distance  \\\n",
       "0                   100                     93         0.068972   \n",
       "1                    91                     64         0.512164   \n",
       "\n",
       "   cityblock_distance  jaccard_distance  canberra_distance  \\\n",
       "0            5.081614               1.0          94.023324   \n",
       "1           14.195119               1.0         177.588090   \n",
       "\n",
       "   euclidean_distance  minkowski_distance  braycurtis_distance  \n",
       "0            0.371408            0.168999             0.186557  \n",
       "1            1.012091            0.455910             0.592655  "
      ]
     },
     "execution_count": 3,
     "metadata": {},
     "output_type": "execute_result"
    }
   ],
   "source": [
    "df.drop(['Unnamed: 0','id','qid1','qid2','question1','question2'],axis = 1,inplace = True)\n",
    "df.head(2)"
   ]
  },
  {
   "cell_type": "code",
   "execution_count": 4,
   "id": "e39c32a4",
   "metadata": {},
   "outputs": [
    {
     "data": {
      "text/plain": [
       "(404290, 17)"
      ]
     },
     "execution_count": 4,
     "metadata": {},
     "output_type": "execute_result"
    }
   ],
   "source": [
    "df.shape"
   ]
  },
  {
   "cell_type": "code",
   "execution_count": 5,
   "id": "a2e417cc",
   "metadata": {},
   "outputs": [],
   "source": [
    "df.dropna(axis = 0,inplace = True)"
   ]
  },
  {
   "cell_type": "markdown",
   "id": "9f7ec333",
   "metadata": {},
   "source": [
    "### Custom plotting matrices using confusion matrix\n",
    "\n",
    "#### i) Calculate the confusion matrix C.\n",
    "#### ii) Calculate the precision matrix B and recall matrix A using the confusion matrix.\n",
    "#### iii) Plot the confusion matrix, precision matrix, and recall matrix using seaborn's heatmap.\n",
    "#### iv) Display the plots in a single figure with appropriate titles and labels."
   ]
  },
  {
   "cell_type": "code",
   "execution_count": 43,
   "id": "6c55c3c7",
   "metadata": {},
   "outputs": [],
   "source": [
    "def plot_confusion_matrix(test_y, predict_y):\n",
    "    C = confusion_matrix(test_y, predict_y)\n",
    "    # C = 9,9 matrix, each cell (i,j) represents number of points of class i are predicted class j\n",
    "    \n",
    "    A =(((C.T)/(C.sum(axis=1))).T)    \n",
    "    B =(C/C.sum(axis=0))\n",
    "\n",
    "    plt.figure(figsize=(20,4))\n",
    "    \n",
    "    labels = [1,2]\n",
    "    \n",
    "    # representing A in heatmap format\n",
    "    cmap=sns.light_palette(\"green\")\n",
    "    plt.subplot(1, 3, 1)\n",
    "    sns.heatmap(C, annot=True, cmap=cmap, fmt=\".3f\", xticklabels=labels, yticklabels=labels)\n",
    "    plt.xlabel('Predicted Class')\n",
    "    plt.ylabel('Original Class')\n",
    "    plt.title(\"Confusion matrix\")\n",
    "    \n",
    "    plt.subplot(1, 3, 2)\n",
    "    sns.heatmap(B, annot=True, cmap=cmap, fmt=\".3f\", xticklabels=labels, yticklabels=labels)\n",
    "    plt.xlabel('Predicted Class')\n",
    "    plt.ylabel('Original Class')\n",
    "    plt.title(\"Precision matrix\")\n",
    "    \n",
    "    plt.subplot(1, 3, 3)\n",
    "    # representing B in heatmap format\n",
    "    sns.heatmap(A, annot=True, cmap=cmap, fmt=\".3f\", xticklabels=labels, yticklabels=labels)\n",
    "    plt.xlabel('Predicted Class')\n",
    "    plt.ylabel('Original Class')\n",
    "    plt.title(\"Recall matrix\")\n",
    "    \n",
    "    plt.show()"
   ]
  },
  {
   "cell_type": "markdown",
   "id": "4dd99046",
   "metadata": {},
   "source": [
    "### Features and Labels Selection for model training"
   ]
  },
  {
   "cell_type": "code",
   "execution_count": 6,
   "id": "a9002a69",
   "metadata": {},
   "outputs": [],
   "source": [
    "X = df.iloc[:,1:]\n",
    "y = df['is_duplicate']"
   ]
  },
  {
   "cell_type": "markdown",
   "id": "4b696f58",
   "metadata": {},
   "source": [
    "### Model Training"
   ]
  },
  {
   "cell_type": "code",
   "execution_count": 11,
   "id": "36c55ba2",
   "metadata": {},
   "outputs": [
    {
     "name": "stderr",
     "output_type": "stream",
     "text": [
      "D:\\Anaconda\\Lib\\site-packages\\sklearn\\utils\\validation.py:605: FutureWarning: is_sparse is deprecated and will be removed in a future version. Check `isinstance(dtype, pd.SparseDtype)` instead.\n",
      "  if is_sparse(pd_dtype):\n",
      "D:\\Anaconda\\Lib\\site-packages\\sklearn\\utils\\validation.py:614: FutureWarning: is_sparse is deprecated and will be removed in a future version. Check `isinstance(dtype, pd.SparseDtype)` instead.\n",
      "  if is_sparse(pd_dtype) or not is_extension_array_dtype(pd_dtype):\n"
     ]
    },
    {
     "data": {
      "text/plain": [
       "((363397, 16), (40378, 16))"
      ]
     },
     "execution_count": 11,
     "metadata": {},
     "output_type": "execute_result"
    }
   ],
   "source": [
    "X_train,X_test,y_train,y_test = train_test_split(X,y,stratify=y,test_size=0.1,shuffle = True)\n",
    "\n",
    "X_train.shape,X_test.shape\n",
    "\n"
   ]
  },
  {
   "cell_type": "code",
   "execution_count": 12,
   "id": "f7601a6a",
   "metadata": {},
   "outputs": [
    {
     "data": {
      "text/plain": [
       "((363397,), (40378,))"
      ]
     },
     "execution_count": 12,
     "metadata": {},
     "output_type": "execute_result"
    }
   ],
   "source": [
    "y_train.shape,y_test.shape"
   ]
  },
  {
   "cell_type": "markdown",
   "id": "ac404d1c",
   "metadata": {},
   "source": [
    "### Learning Model - Logistic Regression "
   ]
  },
  {
   "cell_type": "markdown",
   "id": "5127f570",
   "metadata": {},
   "source": [
    "### Model training and Loss check"
   ]
  },
  {
   "cell_type": "code",
   "execution_count": 20,
   "id": "48391e56",
   "metadata": {},
   "outputs": [
    {
     "name": "stdout",
     "output_type": "stream",
     "text": [
      "For values of alpha =  0.001 The log loss is: 0.5202778996943709\n",
      "For values of alpha =  0.01 The log loss is: 0.5190630922642201\n",
      "For values of alpha =  0.1 The log loss is: 0.5282913429630791\n",
      "For values of alpha =  1 The log loss is: 0.5366288250090943\n",
      "For values of alpha =  2 The log loss is: 0.5378705144804355\n",
      "For values of alpha =  10 The log loss is: 0.5665950023522268\n"
     ]
    }
   ],
   "source": [
    "alpha = [0.001,0.01,0.1,1,2,10]\n",
    "log_error_array=[]\n",
    "\n",
    "for i in alpha:\n",
    "    clf = SGDClassifier(alpha=i, penalty='l1', loss='hinge', random_state=42)\n",
    "    clf.fit(X_train, y_train)\n",
    "    \n",
    "    sig_clf = CalibratedClassifierCV(clf, method=\"isotonic\")\n",
    "    sig_clf.fit(X_train, y_train)\n",
    "    \n",
    "    predict_y = sig_clf.predict_proba(X_test)\n",
    "    log_error_array.append(log_loss(y_test, predict_y, labels=clf.classes_, eps=1e-15))\n",
    "    print('For values of alpha = ', i, \"The log loss is:\",log_loss(y_test, predict_y, labels=clf.classes_, eps=1e-15))\n"
   ]
  },
  {
   "cell_type": "markdown",
   "id": "c6f46380",
   "metadata": {},
   "source": [
    "\n",
    "#### Plotting the loss values\n"
   ]
  },
  {
   "cell_type": "code",
   "execution_count": 25,
   "id": "2c9b2e5b",
   "metadata": {},
   "outputs": [
    {
     "data": {
      "image/png": "[encoded data removed]",
      "text/plain": [
       "<Figure size 640x480 with 1 Axes>"
      ]
     },
     "metadata": {},
     "output_type": "display_data"
    }
   ],
   "source": [
    "\n",
    "#plot of alpha vs Hinge-loss    \n",
    "fig, ax = plt.subplots()\n",
    "ax.plot(alpha, log_error_array,c='g')\n",
    "for i, txt in enumerate(np.round(log_error_array,3)):\n",
    "    ax.annotate((alpha[i],np.round(txt,3)), (alpha[i],log_error_array[i]))\n",
    "plt.grid()\n",
    "plt.title(\"Cross Validation Error for each alpha\")\n",
    "plt.xlabel(\"Alpha i's\")\n",
    "plt.ylabel(\"Error measure\")\n",
    "plt.show()\n"
   ]
  },
  {
   "cell_type": "markdown",
   "id": "be4a7b4e",
   "metadata": {},
   "source": [
    "### Best alpha value selection and model fitting"
   ]
  },
  {
   "cell_type": "code",
   "execution_count": 26,
   "id": "8c48e4ea",
   "metadata": {},
   "outputs": [
    {
     "data": {
      "text/html": [
       "<style>#sk-container-id-1 {color: black;background-color: white;}#sk-container-id-1 pre{padding: 0;}#sk-container-id-1 div.sk-toggleable {background-color: white;}#sk-container-id-1 label.sk-toggleable__label {cursor: pointer;display: block;width: 100%;margin-bottom: 0;padding: 0.3em;box-sizing: border-box;text-align: center;}#sk-container-id-1 label.sk-toggleable__label-arrow:before {content: \"▸\";float: left;margin-right: 0.25em;color: #696969;}#sk-container-id-1 label.sk-toggleable__label-arrow:hover:before {color: black;}#sk-container-id-1 div.sk-estimator:hover label.sk-toggleable__label-arrow:before {color: black;}#sk-container-id-1 div.sk-toggleable__content {max-height: 0;max-width: 0;overflow: hidden;text-align: left;background-color: #f0f8ff;}#sk-container-id-1 div.sk-toggleable__content pre {margin: 0.2em;color: black;border-radius: 0.25em;background-color: #f0f8ff;}#sk-container-id-1 input.sk-toggleable__control:checked~div.sk-toggleable__content {max-height: 200px;max-width: 100%;overflow: auto;}#sk-container-id-1 input.sk-toggleable__control:checked~label.sk-toggleable__label-arrow:before {content: \"▾\";}#sk-container-id-1 div.sk-estimator input.sk-toggleable__control:checked~label.sk-toggleable__label {background-color: #d4ebff;}#sk-container-id-1 div.sk-label input.sk-toggleable__control:checked~label.sk-toggleable__label {background-color: #d4ebff;}#sk-container-id-1 input.sk-hidden--visually {border: 0;clip: rect(1px 1px 1px 1px);clip: rect(1px, 1px, 1px, 1px);height: 1px;margin: -1px;overflow: hidden;padding: 0;position: absolute;width: 1px;}#sk-container-id-1 div.sk-estimator {font-family: monospace;background-color: #f0f8ff;border: 1px dotted black;border-radius: 0.25em;box-sizing: border-box;margin-bottom: 0.5em;}#sk-container-id-1 div.sk-estimator:hover {background-color: #d4ebff;}#sk-container-id-1 div.sk-parallel-item::after {content: \"\";width: 100%;border-bottom: 1px solid gray;flex-grow: 1;}#sk-container-id-1 div.sk-label:hover label.sk-toggleable__label {background-color: #d4ebff;}#sk-container-id-1 div.sk-serial::before {content: \"\";position: absolute;border-left: 1px solid gray;box-sizing: border-box;top: 0;bottom: 0;left: 50%;z-index: 0;}#sk-container-id-1 div.sk-serial {display: flex;flex-direction: column;align-items: center;background-color: white;padding-right: 0.2em;padding-left: 0.2em;position: relative;}#sk-container-id-1 div.sk-item {position: relative;z-index: 1;}#sk-container-id-1 div.sk-parallel {display: flex;align-items: stretch;justify-content: center;background-color: white;position: relative;}#sk-container-id-1 div.sk-item::before, #sk-container-id-1 div.sk-parallel-item::before {content: \"\";position: absolute;border-left: 1px solid gray;box-sizing: border-box;top: 0;bottom: 0;left: 50%;z-index: -1;}#sk-container-id-1 div.sk-parallel-item {display: flex;flex-direction: column;z-index: 1;position: relative;background-color: white;}#sk-container-id-1 div.sk-parallel-item:first-child::after {align-self: flex-end;width: 50%;}#sk-container-id-1 div.sk-parallel-item:last-child::after {align-self: flex-start;width: 50%;}#sk-container-id-1 div.sk-parallel-item:only-child::after {width: 0;}#sk-container-id-1 div.sk-dashed-wrapped {border: 1px dashed gray;margin: 0 0.4em 0.5em 0.4em;box-sizing: border-box;padding-bottom: 0.4em;background-color: white;}#sk-container-id-1 div.sk-label label {font-family: monospace;font-weight: bold;display: inline-block;line-height: 1.2em;}#sk-container-id-1 div.sk-label-container {text-align: center;}#sk-container-id-1 div.sk-container {/* jupyter's `normalize.less` sets `[hidden] { display: none; }` but bootstrap.min.css set `[hidden] { display: none !important; }` so we also need the `!important` here to be able to override the default hidden behavior on the sphinx rendered scikit-learn.org. See: https://github.com/scikit-learn/scikit-learn/issues/21755 */display: inline-block !important;position: relative;}#sk-container-id-1 div.sk-text-repr-fallback {display: none;}</style><div id=\"sk-container-id-1\" class=\"sk-top-container\"><div class=\"sk-text-repr-fallback\"><pre>CalibratedClassifierCV(estimator=SGDClassifier(alpha=0.01, penalty=&#x27;l1&#x27;,\n",
       "                                               random_state=42))</pre><b>In a Jupyter environment, please rerun this cell to show the HTML representation or trust the notebook. <br />On GitHub, the HTML representation is unable to render, please try loading this page with nbviewer.org.</b></div><div class=\"sk-container\" hidden><div class=\"sk-item sk-dashed-wrapped\"><div class=\"sk-label-container\"><div class=\"sk-label sk-toggleable\"><input class=\"sk-toggleable__control sk-hidden--visually\" id=\"sk-estimator-id-1\" type=\"checkbox\" ><label for=\"sk-estimator-id-1\" class=\"sk-toggleable__label sk-toggleable__label-arrow\">CalibratedClassifierCV</label><div class=\"sk-toggleable__content\"><pre>CalibratedClassifierCV(estimator=SGDClassifier(alpha=0.01, penalty=&#x27;l1&#x27;,\n",
       "                                               random_state=42))</pre></div></div></div><div class=\"sk-parallel\"><div class=\"sk-parallel-item\"><div class=\"sk-item\"><div class=\"sk-label-container\"><div class=\"sk-label sk-toggleable\"><input class=\"sk-toggleable__control sk-hidden--visually\" id=\"sk-estimator-id-2\" type=\"checkbox\" ><label for=\"sk-estimator-id-2\" class=\"sk-toggleable__label sk-toggleable__label-arrow\">estimator: SGDClassifier</label><div class=\"sk-toggleable__content\"><pre>SGDClassifier(alpha=0.01, penalty=&#x27;l1&#x27;, random_state=42)</pre></div></div></div><div class=\"sk-serial\"><div class=\"sk-item\"><div class=\"sk-estimator sk-toggleable\"><input class=\"sk-toggleable__control sk-hidden--visually\" id=\"sk-estimator-id-3\" type=\"checkbox\" ><label for=\"sk-estimator-id-3\" class=\"sk-toggleable__label sk-toggleable__label-arrow\">SGDClassifier</label><div class=\"sk-toggleable__content\"><pre>SGDClassifier(alpha=0.01, penalty=&#x27;l1&#x27;, random_state=42)</pre></div></div></div></div></div></div></div></div></div></div>"
      ],
      "text/plain": [
       "CalibratedClassifierCV(estimator=SGDClassifier(alpha=0.01, penalty='l1',\n",
       "                                               random_state=42))"
      ]
     },
     "execution_count": 26,
     "metadata": {},
     "output_type": "execute_result"
    }
   ],
   "source": [
    "\n",
    "best_alpha = np.argmin(log_error_array)\n",
    "clf = SGDClassifier(alpha=alpha[best_alpha], penalty='l1', loss='hinge', random_state=42)\n",
    "clf.fit(X_train, y_train)\n",
    "\n",
    "sig_clf = CalibratedClassifierCV(clf, method=\"sigmoid\")\n",
    "sig_clf.fit(X_train, y_train)\n",
    "\n"
   ]
  },
  {
   "cell_type": "markdown",
   "id": "1b2cb0b7",
   "metadata": {},
   "source": [
    "### Printing log loss, accuracy, classification report and confusion matrix"
   ]
  },
  {
   "cell_type": "code",
   "execution_count": 30,
   "id": "27d2c7f8",
   "metadata": {},
   "outputs": [
    {
     "name": "stdout",
     "output_type": "stream",
     "text": [
      "For values of best alpha = 0.01 The train log loss is: 0.5375267141359762\n"
     ]
    }
   ],
   "source": [
    "predict_y = sig_clf.predict_proba(X_train)\n",
    "\n",
    "print('For values of best alpha =', alpha[best_alpha], \"The train log loss is:\",log_loss(y_train, predict_y, labels=clf.classes_, eps=1e-15))\n",
    "predict_y = sig_clf.predict_proba(X_test)"
   ]
  },
  {
   "cell_type": "code",
   "execution_count": 29,
   "id": "0ae9aa7c",
   "metadata": {},
   "outputs": [
    {
     "name": "stdout",
     "output_type": "stream",
     "text": [
      "For values of best alpha = 0.01 The test log loss is: 0.5388491074973352\n"
     ]
    }
   ],
   "source": [
    "print('For values of best alpha =', alpha[best_alpha], \"The test log loss is:\",log_loss(y_test, predict_y, labels=clf.classes_, eps=1e-15))\n",
    "predicted_y =np.argmax(predict_y,axis=1)"
   ]
  },
  {
   "cell_type": "code",
   "execution_count": 31,
   "id": "b0961ca2",
   "metadata": {},
   "outputs": [
    {
     "name": "stdout",
     "output_type": "stream",
     "text": [
      "Total number of data points : 40378\n",
      "-----------------------------------------------------------------------\n",
      "0.6757392639556195\n",
      "              precision    recall  f1-score   support\n",
      "\n",
      "           0       0.73      0.77      0.75     25459\n",
      "           1       0.57      0.51      0.54     14919\n",
      "\n",
      "    accuracy                           0.68     40378\n",
      "   macro avg       0.65      0.64      0.64     40378\n",
      "weighted avg       0.67      0.68      0.67     40378\n",
      "\n"
     ]
    }
   ],
   "source": [
    "print(\"Total number of data points :\", len(predicted_y))\n",
    "print('-----------------------------------------------------------------------')\n",
    "print(accuracy_score(y_test, predicted_y))\n",
    "print(classification_report(y_test, predicted_y))"
   ]
  },
  {
   "cell_type": "code",
   "execution_count": 44,
   "id": "7c7544d9",
   "metadata": {},
   "outputs": [
    {
     "data": {
      "image/png": "[encoded data removed]",
      "text/plain": [
       "<Figure size 2000x400 with 6 Axes>"
      ]
     },
     "metadata": {},
     "output_type": "display_data"
    }
   ],
   "source": [
    "plot_confusion_matrix(y_test, predicted_y)"
   ]
  },
  {
   "cell_type": "code",
   "execution_count": 45,
   "id": "0d7126c5",
   "metadata": {},
   "outputs": [
    {
     "name": "stdout",
     "output_type": "stream",
     "text": [
      "0.6757392639556195\n"
     ]
    }
   ],
   "source": [
    "print(accuracy_score(y_test, predicted_y))"
   ]
  },
  {
   "cell_type": "markdown",
   "id": "3b958643",
   "metadata": {},
   "source": [
    "### Testing..."
   ]
  },
  {
   "cell_type": "code",
   "execution_count": 63,
   "id": "5927dbab",
   "metadata": {},
   "outputs": [
    {
     "data": {
      "text/html": [
       "<div>\n",
       "<style scoped>\n",
       "    .dataframe tbody tr th:only-of-type {\n",
       "        vertical-align: middle;\n",
       "    }\n",
       "\n",
       "    .dataframe tbody tr th {\n",
       "        vertical-align: top;\n",
       "    }\n",
       "\n",
       "    .dataframe thead th {\n",
       "        text-align: right;\n",
       "    }\n",
       "</style>\n",
       "<table border=\"1\" class=\"dataframe\">\n",
       "  <thead>\n",
       "    <tr style=\"text-align: right;\">\n",
       "      <th></th>\n",
       "      <th>len_q1</th>\n",
       "      <th>len_q2</th>\n",
       "      <th>common_words</th>\n",
       "      <th>fuzz_ratio</th>\n",
       "      <th>fuzz_partial_ratio</th>\n",
       "      <th>fuzz_partial_token_set_ratio</th>\n",
       "      <th>fuzz_partial_token_sort_ratio</th>\n",
       "      <th>fuzz_token_set_ratio</th>\n",
       "      <th>fuzz_token_sort_ratio</th>\n",
       "      <th>cosine_distance</th>\n",
       "      <th>cityblock_distance</th>\n",
       "      <th>jaccard_distance</th>\n",
       "      <th>canberra_distance</th>\n",
       "      <th>euclidean_distance</th>\n",
       "      <th>minkowski_distance</th>\n",
       "      <th>braycurtis_distance</th>\n",
       "    </tr>\n",
       "  </thead>\n",
       "  <tbody>\n",
       "    <tr>\n",
       "      <th>17094</th>\n",
       "      <td>33</td>\n",
       "      <td>28</td>\n",
       "      <td>3</td>\n",
       "      <td>69</td>\n",
       "      <td>61</td>\n",
       "      <td>100</td>\n",
       "      <td>67</td>\n",
       "      <td>68</td>\n",
       "      <td>61</td>\n",
       "      <td>0.232904</td>\n",
       "      <td>9.280491</td>\n",
       "      <td>1.0</td>\n",
       "      <td>135.823171</td>\n",
       "      <td>0.682501</td>\n",
       "      <td>0.30986</td>\n",
       "      <td>0.358645</td>\n",
       "    </tr>\n",
       "  </tbody>\n",
       "</table>\n",
       "</div>"
      ],
      "text/plain": [
       "       len_q1  len_q2  common_words  fuzz_ratio  fuzz_partial_ratio  \\\n",
       "17094      33      28             3          69                  61   \n",
       "\n",
       "       fuzz_partial_token_set_ratio  fuzz_partial_token_sort_ratio  \\\n",
       "17094                           100                             67   \n",
       "\n",
       "       fuzz_token_set_ratio  fuzz_token_sort_ratio  cosine_distance  \\\n",
       "17094                    68                     61         0.232904   \n",
       "\n",
       "       cityblock_distance  jaccard_distance  canberra_distance  \\\n",
       "17094            9.280491               1.0         135.823171   \n",
       "\n",
       "       euclidean_distance  minkowski_distance  braycurtis_distance  \n",
       "17094            0.682501             0.30986             0.358645  "
      ]
     },
     "execution_count": 63,
     "metadata": {},
     "output_type": "execute_result"
    }
   ],
   "source": [
    "da = X_test.iloc[:1]\n",
    "da"
   ]
  },
  {
   "cell_type": "code",
   "execution_count": 62,
   "id": "b9d4aecd",
   "metadata": {},
   "outputs": [
    {
     "data": {
      "text/html": [
       "<div>\n",
       "<style scoped>\n",
       "    .dataframe tbody tr th:only-of-type {\n",
       "        vertical-align: middle;\n",
       "    }\n",
       "\n",
       "    .dataframe tbody tr th {\n",
       "        vertical-align: top;\n",
       "    }\n",
       "\n",
       "    .dataframe thead th {\n",
       "        text-align: right;\n",
       "    }\n",
       "</style>\n",
       "<table border=\"1\" class=\"dataframe\">\n",
       "  <thead>\n",
       "    <tr style=\"text-align: right;\">\n",
       "      <th></th>\n",
       "      <th>len_q1</th>\n",
       "      <th>len_q2</th>\n",
       "      <th>common_words</th>\n",
       "      <th>fuzz_ratio</th>\n",
       "      <th>fuzz_partial_ratio</th>\n",
       "      <th>fuzz_partial_token_set_ratio</th>\n",
       "      <th>fuzz_partial_token_sort_ratio</th>\n",
       "      <th>fuzz_token_set_ratio</th>\n",
       "      <th>fuzz_token_sort_ratio</th>\n",
       "      <th>cosine_distance</th>\n",
       "      <th>cityblock_distance</th>\n",
       "      <th>jaccard_distance</th>\n",
       "      <th>canberra_distance</th>\n",
       "      <th>euclidean_distance</th>\n",
       "      <th>minkowski_distance</th>\n",
       "      <th>braycurtis_distance</th>\n",
       "    </tr>\n",
       "  </thead>\n",
       "  <tbody>\n",
       "    <tr>\n",
       "      <th>17094</th>\n",
       "      <td>33</td>\n",
       "      <td>28</td>\n",
       "      <td>3</td>\n",
       "      <td>69</td>\n",
       "      <td>61</td>\n",
       "      <td>100</td>\n",
       "      <td>67</td>\n",
       "      <td>68</td>\n",
       "      <td>61</td>\n",
       "      <td>0.232904</td>\n",
       "      <td>9.280491</td>\n",
       "      <td>1.0</td>\n",
       "      <td>135.823171</td>\n",
       "      <td>0.682501</td>\n",
       "      <td>0.30986</td>\n",
       "      <td>0.358645</td>\n",
       "    </tr>\n",
       "  </tbody>\n",
       "</table>\n",
       "</div>"
      ],
      "text/plain": [
       "       len_q1  len_q2  common_words  fuzz_ratio  fuzz_partial_ratio  \\\n",
       "17094      33      28             3          69                  61   \n",
       "\n",
       "       fuzz_partial_token_set_ratio  fuzz_partial_token_sort_ratio  \\\n",
       "17094                           100                             67   \n",
       "\n",
       "       fuzz_token_set_ratio  fuzz_token_sort_ratio  cosine_distance  \\\n",
       "17094                    68                     61         0.232904   \n",
       "\n",
       "       cityblock_distance  jaccard_distance  canberra_distance  \\\n",
       "17094            9.280491               1.0         135.823171   \n",
       "\n",
       "       euclidean_distance  minkowski_distance  braycurtis_distance  \n",
       "17094            0.682501             0.30986             0.358645  "
      ]
     },
     "execution_count": 62,
     "metadata": {},
     "output_type": "execute_result"
    }
   ],
   "source": [
    "X_test.iloc[:1]"
   ]
  },
  {
   "cell_type": "code",
   "execution_count": 60,
   "id": "4045ff06",
   "metadata": {},
   "outputs": [
    {
     "data": {
      "text/plain": [
       "0"
      ]
     },
     "execution_count": 60,
     "metadata": {},
     "output_type": "execute_result"
    }
   ],
   "source": [
    "y_test.iloc[1]"
   ]
  },
  {
   "cell_type": "code",
   "execution_count": 64,
   "id": "b8ef0691",
   "metadata": {},
   "outputs": [
    {
     "data": {
      "text/plain": [
       "array([0], dtype=int64)"
      ]
     },
     "execution_count": 64,
     "metadata": {},
     "output_type": "execute_result"
    }
   ],
   "source": [
    "res = sig_clf.predict(da)\n",
    "res"
   ]
  },
  {
   "cell_type": "markdown",
   "id": "05802ad1",
   "metadata": {},
   "source": [
    "### Learning Model - SVM "
   ]
  },
  {
   "cell_type": "markdown",
   "id": "898f13d3",
   "metadata": {},
   "source": [
    "### Model training and Loss check"
   ]
  },
  {
   "cell_type": "code",
   "execution_count": 65,
   "id": "f159d7c3",
   "metadata": {},
   "outputs": [
    {
     "name": "stdout",
     "output_type": "stream",
     "text": [
      "For values of alpha =  0.001 The log loss is: 0.5202778996943709\n",
      "For values of alpha =  0.01 The log loss is: 0.5190630922642201\n",
      "For values of alpha =  0.1 The log loss is: 0.5282913429630791\n",
      "For values of alpha =  1 The log loss is: 0.5366288250090943\n",
      "For values of alpha =  2 The log loss is: 0.5378705144804355\n",
      "For values of alpha =  10 The log loss is: 0.5665950023522268\n"
     ]
    }
   ],
   "source": [
    "alpha = [0.001,0.01,0.1,1,2,10]\n",
    "log_error_array=[]\n",
    "for i in alpha:\n",
    "    clf = SGDClassifier(alpha=i, penalty='l1', loss='hinge', random_state=42)\n",
    "    clf.fit(X_train, y_train)\n",
    "    \n",
    "    sig_clf = CalibratedClassifierCV(clf, method=\"isotonic\")\n",
    "    sig_clf.fit(X_train, y_train)\n",
    "    \n",
    "    predict_y = sig_clf.predict_proba(X_test)\n",
    "    log_error_array.append(log_loss(y_test, predict_y, labels=clf.classes_, eps=1e-15))\n",
    "    print('For values of alpha = ', i, \"The log loss is:\",log_loss(y_test, predict_y, labels=clf.classes_, eps=1e-15))\n"
   ]
  },
  {
   "cell_type": "markdown",
   "id": "ffad4684",
   "metadata": {},
   "source": [
    "### Plotting the log loss values"
   ]
  },
  {
   "cell_type": "code",
   "execution_count": 66,
   "id": "3ef085b5",
   "metadata": {},
   "outputs": [
    {
     "data": {
      "image/png": "[encoded data removed]",
      "text/plain": [
       "<Figure size 640x480 with 1 Axes>"
      ]
     },
     "metadata": {},
     "output_type": "display_data"
    }
   ],
   "source": [
    "\n",
    "#plot of alpha vs Hinge-loss    \n",
    "fig, ax = plt.subplots()\n",
    "ax.plot(alpha, log_error_array,c='g')\n",
    "\n",
    "for i, txt in enumerate(np.round(log_error_array,3)):\n",
    "    ax.annotate((alpha[i],np.round(txt,3)), (alpha[i],log_error_array[i]))\n",
    "\n",
    "plt.grid()\n",
    "plt.title(\"Cross Validation Error for each alpha\")\n",
    "plt.xlabel(\"Alpha i's\")\n",
    "plt.ylabel(\"Error measure\")\n",
    "plt.show()\n"
   ]
  },
  {
   "cell_type": "markdown",
   "id": "7374057e",
   "metadata": {},
   "source": [
    "### Best Alpha selection and model fitting"
   ]
  },
  {
   "cell_type": "code",
   "execution_count": 67,
   "id": "1fdd0e8f",
   "metadata": {},
   "outputs": [],
   "source": [
    "\n",
    "best_alpha = np.argmin(log_error_array)\n",
    "clf = SGDClassifier(alpha=alpha[best_alpha], penalty='l1', loss='hinge', random_state=42)\n",
    "clf.fit(X_train, y_train)\n",
    "\n",
    "sig_clf = CalibratedClassifierCV(clf, method=\"sigmoid\")\n",
    "sig_clf.fit(X_train, y_train)\n",
    "predict_y = sig_clf.predict_proba(X_train)\n"
   ]
  },
  {
   "cell_type": "markdown",
   "id": "cb6834de",
   "metadata": {},
   "source": [
    "### Printing log loss, accuracy, classification report and confusion matrix"
   ]
  },
  {
   "cell_type": "code",
   "execution_count": 68,
   "id": "6cb542cb",
   "metadata": {},
   "outputs": [
    {
     "name": "stdout",
     "output_type": "stream",
     "text": [
      "For values of best alpha =  0.01 The train log loss is: 0.5375267141359762\n",
      "For values of best alpha =  0.01 The test log loss is: 0.5388491074973352\n"
     ]
    }
   ],
   "source": [
    "\n",
    "print('For values of best alpha = ', alpha[best_alpha], \"The train log loss is:\",log_loss(y_train, predict_y, labels=clf.classes_, eps=1e-15))\n",
    "predict_y = sig_clf.predict_proba(X_test)\n",
    "\n",
    "print('For values of best alpha = ', alpha[best_alpha], \"The test log loss is:\",log_loss(y_test, predict_y, labels=clf.classes_, eps=1e-15))\n",
    "predicted_y =np.argmax(predict_y,axis=1)\n",
    "\n"
   ]
  },
  {
   "cell_type": "code",
   "execution_count": 69,
   "id": "5558be95",
   "metadata": {},
   "outputs": [
    {
     "name": "stdout",
     "output_type": "stream",
     "text": [
      "Total number of data points : 40378\n",
      "-----------------------------------------------------------------------\n",
      "0.6757392639556195\n",
      "              precision    recall  f1-score   support\n",
      "\n",
      "           0       0.73      0.77      0.75     25459\n",
      "           1       0.57      0.51      0.54     14919\n",
      "\n",
      "    accuracy                           0.68     40378\n",
      "   macro avg       0.65      0.64      0.64     40378\n",
      "weighted avg       0.67      0.68      0.67     40378\n",
      "\n"
     ]
    }
   ],
   "source": [
    "print(\"Total number of data points :\", len(predicted_y))\n",
    "print('-----------------------------------------------------------------------')\n",
    "print(accuracy_score(y_test, predicted_y))\n",
    "print(classification_report(y_test, predicted_y))"
   ]
  },
  {
   "cell_type": "code",
   "execution_count": 70,
   "id": "281ecfb7",
   "metadata": {},
   "outputs": [
    {
     "data": {
      "image/png": "[encoded data removed]",
      "text/plain": [
       "<Figure size 2000x400 with 6 Axes>"
      ]
     },
     "metadata": {},
     "output_type": "display_data"
    }
   ],
   "source": [
    "plot_confusion_matrix(y_test, predicted_y)"
   ]
  },
  {
   "cell_type": "code",
   "execution_count": 74,
   "id": "84510faa",
   "metadata": {},
   "outputs": [
    {
     "name": "stdout",
     "output_type": "stream",
     "text": [
      "0.6757392639556195\n"
     ]
    }
   ],
   "source": [
    "print(accuracy_score(y_test, predicted_y))"
   ]
  },
  {
   "cell_type": "markdown",
   "id": "5f262adb",
   "metadata": {},
   "source": [
    "### Testing..."
   ]
  },
  {
   "cell_type": "code",
   "execution_count": 71,
   "id": "f9d41998",
   "metadata": {},
   "outputs": [
    {
     "data": {
      "text/html": [
       "<div>\n",
       "<style scoped>\n",
       "    .dataframe tbody tr th:only-of-type {\n",
       "        vertical-align: middle;\n",
       "    }\n",
       "\n",
       "    .dataframe tbody tr th {\n",
       "        vertical-align: top;\n",
       "    }\n",
       "\n",
       "    .dataframe thead th {\n",
       "        text-align: right;\n",
       "    }\n",
       "</style>\n",
       "<table border=\"1\" class=\"dataframe\">\n",
       "  <thead>\n",
       "    <tr style=\"text-align: right;\">\n",
       "      <th></th>\n",
       "      <th>len_q1</th>\n",
       "      <th>len_q2</th>\n",
       "      <th>common_words</th>\n",
       "      <th>fuzz_ratio</th>\n",
       "      <th>fuzz_partial_ratio</th>\n",
       "      <th>fuzz_partial_token_set_ratio</th>\n",
       "      <th>fuzz_partial_token_sort_ratio</th>\n",
       "      <th>fuzz_token_set_ratio</th>\n",
       "      <th>fuzz_token_sort_ratio</th>\n",
       "      <th>cosine_distance</th>\n",
       "      <th>cityblock_distance</th>\n",
       "      <th>jaccard_distance</th>\n",
       "      <th>canberra_distance</th>\n",
       "      <th>euclidean_distance</th>\n",
       "      <th>minkowski_distance</th>\n",
       "      <th>braycurtis_distance</th>\n",
       "    </tr>\n",
       "  </thead>\n",
       "  <tbody>\n",
       "    <tr>\n",
       "      <th>17094</th>\n",
       "      <td>33</td>\n",
       "      <td>28</td>\n",
       "      <td>3</td>\n",
       "      <td>69</td>\n",
       "      <td>61</td>\n",
       "      <td>100</td>\n",
       "      <td>67</td>\n",
       "      <td>68</td>\n",
       "      <td>61</td>\n",
       "      <td>0.232904</td>\n",
       "      <td>9.280491</td>\n",
       "      <td>1.0</td>\n",
       "      <td>135.823171</td>\n",
       "      <td>0.682501</td>\n",
       "      <td>0.30986</td>\n",
       "      <td>0.358645</td>\n",
       "    </tr>\n",
       "  </tbody>\n",
       "</table>\n",
       "</div>"
      ],
      "text/plain": [
       "       len_q1  len_q2  common_words  fuzz_ratio  fuzz_partial_ratio  \\\n",
       "17094      33      28             3          69                  61   \n",
       "\n",
       "       fuzz_partial_token_set_ratio  fuzz_partial_token_sort_ratio  \\\n",
       "17094                           100                             67   \n",
       "\n",
       "       fuzz_token_set_ratio  fuzz_token_sort_ratio  cosine_distance  \\\n",
       "17094                    68                     61         0.232904   \n",
       "\n",
       "       cityblock_distance  jaccard_distance  canberra_distance  \\\n",
       "17094            9.280491               1.0         135.823171   \n",
       "\n",
       "       euclidean_distance  minkowski_distance  braycurtis_distance  \n",
       "17094            0.682501             0.30986             0.358645  "
      ]
     },
     "execution_count": 71,
     "metadata": {},
     "output_type": "execute_result"
    }
   ],
   "source": [
    "da = X_test.iloc[:1]\n",
    "da"
   ]
  },
  {
   "cell_type": "code",
   "execution_count": 72,
   "id": "b5f5262f",
   "metadata": {},
   "outputs": [
    {
     "data": {
      "text/html": [
       "<div>\n",
       "<style scoped>\n",
       "    .dataframe tbody tr th:only-of-type {\n",
       "        vertical-align: middle;\n",
       "    }\n",
       "\n",
       "    .dataframe tbody tr th {\n",
       "        vertical-align: top;\n",
       "    }\n",
       "\n",
       "    .dataframe thead th {\n",
       "        text-align: right;\n",
       "    }\n",
       "</style>\n",
       "<table border=\"1\" class=\"dataframe\">\n",
       "  <thead>\n",
       "    <tr style=\"text-align: right;\">\n",
       "      <th></th>\n",
       "      <th>len_q1</th>\n",
       "      <th>len_q2</th>\n",
       "      <th>common_words</th>\n",
       "      <th>fuzz_ratio</th>\n",
       "      <th>fuzz_partial_ratio</th>\n",
       "      <th>fuzz_partial_token_set_ratio</th>\n",
       "      <th>fuzz_partial_token_sort_ratio</th>\n",
       "      <th>fuzz_token_set_ratio</th>\n",
       "      <th>fuzz_token_sort_ratio</th>\n",
       "      <th>cosine_distance</th>\n",
       "      <th>cityblock_distance</th>\n",
       "      <th>jaccard_distance</th>\n",
       "      <th>canberra_distance</th>\n",
       "      <th>euclidean_distance</th>\n",
       "      <th>minkowski_distance</th>\n",
       "      <th>braycurtis_distance</th>\n",
       "    </tr>\n",
       "  </thead>\n",
       "  <tbody>\n",
       "    <tr>\n",
       "      <th>17094</th>\n",
       "      <td>33</td>\n",
       "      <td>28</td>\n",
       "      <td>3</td>\n",
       "      <td>69</td>\n",
       "      <td>61</td>\n",
       "      <td>100</td>\n",
       "      <td>67</td>\n",
       "      <td>68</td>\n",
       "      <td>61</td>\n",
       "      <td>0.232904</td>\n",
       "      <td>9.280491</td>\n",
       "      <td>1.0</td>\n",
       "      <td>135.823171</td>\n",
       "      <td>0.682501</td>\n",
       "      <td>0.30986</td>\n",
       "      <td>0.358645</td>\n",
       "    </tr>\n",
       "  </tbody>\n",
       "</table>\n",
       "</div>"
      ],
      "text/plain": [
       "       len_q1  len_q2  common_words  fuzz_ratio  fuzz_partial_ratio  \\\n",
       "17094      33      28             3          69                  61   \n",
       "\n",
       "       fuzz_partial_token_set_ratio  fuzz_partial_token_sort_ratio  \\\n",
       "17094                           100                             67   \n",
       "\n",
       "       fuzz_token_set_ratio  fuzz_token_sort_ratio  cosine_distance  \\\n",
       "17094                    68                     61         0.232904   \n",
       "\n",
       "       cityblock_distance  jaccard_distance  canberra_distance  \\\n",
       "17094            9.280491               1.0         135.823171   \n",
       "\n",
       "       euclidean_distance  minkowski_distance  braycurtis_distance  \n",
       "17094            0.682501             0.30986             0.358645  "
      ]
     },
     "execution_count": 72,
     "metadata": {},
     "output_type": "execute_result"
    }
   ],
   "source": [
    "X_test.iloc[:1]"
   ]
  },
  {
   "cell_type": "code",
   "execution_count": 60,
   "id": "4084eb36",
   "metadata": {},
   "outputs": [
    {
     "data": {
      "text/plain": [
       "0"
      ]
     },
     "execution_count": 60,
     "metadata": {},
     "output_type": "execute_result"
    }
   ],
   "source": [
    "y_test.iloc[1]"
   ]
  },
  {
   "cell_type": "code",
   "execution_count": 73,
   "id": "5fe55281",
   "metadata": {},
   "outputs": [
    {
     "data": {
      "text/plain": [
       "array([0], dtype=int64)"
      ]
     },
     "execution_count": 73,
     "metadata": {},
     "output_type": "execute_result"
    }
   ],
   "source": [
    "res = sig_clf.predict(da)\n",
    "res"
   ]
  }
 ],
 "metadata": {
  "kernelspec": {
   "display_name": "Python 3 (ipykernel)",
   "language": "python",
   "name": "python3"
  },
  "language_info": {
   "codemirror_mode": {
    "name": "ipython",
    "version": 3
   },
   "file_extension": ".py",
   "mimetype": "text/x-python",
   "name": "python",
   "nbconvert_exporter": "python",
   "pygments_lexer": "ipython3",
   "version": "3.11.3"
  }
 },
 "nbformat": 4,
 "nbformat_minor": 5
}
