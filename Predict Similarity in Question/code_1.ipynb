{
 "cells": [
  {
   "cell_type": "code",
   "execution_count": 1,
   "id": "268bcc0f-7cfe-463a-bf5c-75b8ba6d70d6",
   "metadata": {},
   "outputs": [
    {
     "name": "stderr",
     "output_type": "stream",
     "text": [
      "D:\\Anaconda\\Lib\\site-packages\\fuzzywuzzy\\fuzz.py:11: UserWarning: Using slow pure-python SequenceMatcher. Install python-Levenshtein to remove this warning\n",
      "  warnings.warn('Using slow pure-python SequenceMatcher. Install python-Levenshtein to remove this warning')\n"
     ]
    }
   ],
   "source": [
    "import numpy as np\n",
    "import pandas as pd\n",
    "import seaborn as sns\n",
    "import matplotlib.pyplot as plt\n",
    "%matplotlib inline\n",
    "\n",
    "import os\n",
    "import gc\n",
    "import re\n",
    "import distance\n",
    "\n",
    "from nltk import word_tokenize\n",
    "from nltk.corpus import stopwords\n",
    "from nltk.stem import PorterStemmer\n",
    "\n",
    "from wordcloud import WordCloud, STOPWORDS\n",
    "\n",
    "\n",
    "from sklearn.metrics import accuracy_score,log_loss,roc_auc_score,classification_report\n",
    "from sklearn.feature_extraction.text import TfidfVectorizer, CountVectorizer\n",
    "from sklearn import linear_model\n",
    "from sklearn.model_selection import train_test_split\n",
    "from scipy.spatial.distance import cosine, cityblock, jaccard, canberra, euclidean, minkowski, braycurtis\n",
    "\n",
    "import scipy\n",
    "import xgboost as xgb\n",
    "from fuzzywuzzy import fuzz\n",
    "\n",
    "from sklearn.manifold import TSNE\n",
    "from sklearn.model_selection import cross_val_score\n",
    "from sklearn.linear_model import SGDClassifier\n",
    "\n",
    "from collections import Counter\n",
    "from sklearn.metrics import confusion_matrix\n",
    "from sklearn.multiclass import OneVsRestClassifier\n",
    "from sklearn.svm import SVC\n",
    "from sklearn.model_selection import StratifiedKFold \n",
    "from collections import Counter, defaultdict\n",
    "from sklearn.calibration import CalibratedClassifierCV\n",
    "from sklearn.naive_bayes import MultinomialNB\n",
    "from sklearn.naive_bayes import GaussianNB\n",
    "from sklearn.model_selection import train_test_split\n",
    "from sklearn.model_selection import GridSearchCV"
   ]
  },
  {
   "cell_type": "code",
   "execution_count": 19,
   "id": "61f2a194",
   "metadata": {},
   "outputs": [],
   "source": [
    "import gensim\n",
    "import smart_open\n",
    "from gensim.models import Word2Vec\n",
    "from scipy.spatial.distance import cosine, cityblock, jaccard, canberra, euclidean, minkowski, braycurtis\n",
    "\n",
    "from tqdm import tqdm_notebook"
   ]
  },
  {
   "cell_type": "code",
   "execution_count": 2,
   "id": "23de846b-da02-4e3e-b48f-177d636af593",
   "metadata": {},
   "outputs": [
    {
     "data": {
      "text/html": [
       "<div>\n",
       "<style scoped>\n",
       "    .dataframe tbody tr th:only-of-type {\n",
       "        vertical-align: middle;\n",
       "    }\n",
       "\n",
       "    .dataframe tbody tr th {\n",
       "        vertical-align: top;\n",
       "    }\n",
       "\n",
       "    .dataframe thead th {\n",
       "        text-align: right;\n",
       "    }\n",
       "</style>\n",
       "<table border=\"1\" class=\"dataframe\">\n",
       "  <thead>\n",
       "    <tr style=\"text-align: right;\">\n",
       "      <th></th>\n",
       "      <th>id</th>\n",
       "      <th>qid1</th>\n",
       "      <th>qid2</th>\n",
       "      <th>question1</th>\n",
       "      <th>question2</th>\n",
       "      <th>is_duplicate</th>\n",
       "    </tr>\n",
       "  </thead>\n",
       "  <tbody>\n",
       "    <tr>\n",
       "      <th>0</th>\n",
       "      <td>0</td>\n",
       "      <td>1</td>\n",
       "      <td>2</td>\n",
       "      <td>What is the step by step guide to invest in sh...</td>\n",
       "      <td>What is the step by step guide to invest in sh...</td>\n",
       "      <td>0</td>\n",
       "    </tr>\n",
       "    <tr>\n",
       "      <th>1</th>\n",
       "      <td>1</td>\n",
       "      <td>3</td>\n",
       "      <td>4</td>\n",
       "      <td>What is the story of Kohinoor (Koh-i-Noor) Dia...</td>\n",
       "      <td>What would happen if the Indian government sto...</td>\n",
       "      <td>0</td>\n",
       "    </tr>\n",
       "    <tr>\n",
       "      <th>2</th>\n",
       "      <td>2</td>\n",
       "      <td>5</td>\n",
       "      <td>6</td>\n",
       "      <td>How can I increase the speed of my internet co...</td>\n",
       "      <td>How can Internet speed be increased by hacking...</td>\n",
       "      <td>0</td>\n",
       "    </tr>\n",
       "    <tr>\n",
       "      <th>3</th>\n",
       "      <td>3</td>\n",
       "      <td>7</td>\n",
       "      <td>8</td>\n",
       "      <td>Why am I mentally very lonely? How can I solve...</td>\n",
       "      <td>Find the remainder when [math]23^{24}[/math] i...</td>\n",
       "      <td>0</td>\n",
       "    </tr>\n",
       "    <tr>\n",
       "      <th>4</th>\n",
       "      <td>4</td>\n",
       "      <td>9</td>\n",
       "      <td>10</td>\n",
       "      <td>Which one dissolve in water quikly sugar, salt...</td>\n",
       "      <td>Which fish would survive in salt water?</td>\n",
       "      <td>0</td>\n",
       "    </tr>\n",
       "  </tbody>\n",
       "</table>\n",
       "</div>"
      ],
      "text/plain": [
       "   id  qid1  qid2                                          question1  \\\n",
       "0   0     1     2  What is the step by step guide to invest in sh...   \n",
       "1   1     3     4  What is the story of Kohinoor (Koh-i-Noor) Dia...   \n",
       "2   2     5     6  How can I increase the speed of my internet co...   \n",
       "3   3     7     8  Why am I mentally very lonely? How can I solve...   \n",
       "4   4     9    10  Which one dissolve in water quikly sugar, salt...   \n",
       "\n",
       "                                           question2  is_duplicate  \n",
       "0  What is the step by step guide to invest in sh...             0  \n",
       "1  What would happen if the Indian government sto...             0  \n",
       "2  How can Internet speed be increased by hacking...             0  \n",
       "3  Find the remainder when [math]23^{24}[/math] i...             0  \n",
       "4            Which fish would survive in salt water?             0  "
      ]
     },
     "execution_count": 2,
     "metadata": {},
     "output_type": "execute_result"
    }
   ],
   "source": [
    "df= pd.read_csv(\"train.csv\") \n",
    "df['question1'] = df['question1'].apply(lambda x: str(x)) \n",
    "df['question2'] = df['question2'].apply(lambda x: str(x)) \n",
    "df.head()"
   ]
  },
  {
   "cell_type": "code",
   "execution_count": 3,
   "id": "7642a3a3",
   "metadata": {},
   "outputs": [
    {
     "data": {
      "text/plain": [
       "(404290, 6)"
      ]
     },
     "execution_count": 3,
     "metadata": {},
     "output_type": "execute_result"
    }
   ],
   "source": [
    "df = df.dropna(how=\"any\").reset_index(drop=True)\n",
    "df.shape\n",
    "\n"
   ]
  },
  {
   "cell_type": "code",
   "execution_count": 4,
   "id": "0665d982",
   "metadata": {},
   "outputs": [
    {
     "data": {
      "text/plain": [
       "<Axes: xlabel='is_duplicate'>"
      ]
     },
     "execution_count": 4,
     "metadata": {},
     "output_type": "execute_result"
    },
    {
     "data": {
      "image/png": "[encoded data removed]",
      "text/plain": [
       "<Figure size 640x480 with 1 Axes>"
      ]
     },
     "metadata": {},
     "output_type": "display_data"
    }
   ],
   "source": [
    "df.groupby('is_duplicate')['id'].count().plot.bar()"
   ]
  },
  {
   "cell_type": "code",
   "execution_count": 5,
   "id": "3c362c7d",
   "metadata": {},
   "outputs": [
    {
     "data": {
      "text/plain": [
       "is_duplicate\n",
       "0    0.630802\n",
       "1    0.369198\n",
       "Name: proportion, dtype: float64"
      ]
     },
     "execution_count": 5,
     "metadata": {},
     "output_type": "execute_result"
    }
   ],
   "source": [
    "df['is_duplicate'].value_counts(normalize = True)"
   ]
  },
  {
   "cell_type": "markdown",
   "id": "5cb72ac6",
   "metadata": {},
   "source": [
    "### About Similar question pair - 36.92% from the dataset\n",
    "\n",
    "### Non-Similar question pair - 63.07% from the dataset"
   ]
  },
  {
   "cell_type": "code",
   "execution_count": 6,
   "id": "066a7fef-2ff4-44f3-929e-e27b4cf59959",
   "metadata": {},
   "outputs": [
    {
     "name": "stdout",
     "output_type": "stream",
     "text": [
      "Total Unique Questions: 537933\n",
      "\n",
      "Number of unique questions repeating more than once: 111780 (20.77953945937505%)\n",
      "\n",
      "Max number of times a single question is repeated: 157\n",
      "\n"
     ]
    }
   ],
   "source": [
    "#Number of Unique Questions\n",
    "\n",
    "qids = pd.Series(df['qid1'].tolist() + df['qid2'].tolist())\n",
    "unique_qids = len(np.unique(qids))\n",
    "qs_morethan_onetime = np.sum(qids.value_counts() > 1)\n",
    "\n",
    "print ('Total Unique Questions: {}\\n'.format(unique_qids))\n",
    "\n",
    "print ('Number of unique questions repeating more than once: {} ({}%)\\n'.format(qs_morethan_onetime,qs_morethan_onetime/unique_qids*100))\n",
    "\n",
    "print ('Max number of times a single question is repeated: {}\\n'.format(max(qids.value_counts())))"
   ]
  },
  {
   "cell_type": "code",
   "execution_count": 7,
   "id": "76d71bff",
   "metadata": {},
   "outputs": [
    {
     "name": "stderr",
     "output_type": "stream",
     "text": [
      "D:\\Anaconda\\Lib\\site-packages\\seaborn\\_oldcore.py:1498: FutureWarning: is_categorical_dtype is deprecated and will be removed in a future version. Use isinstance(dtype, CategoricalDtype) instead\n",
      "  if pd.api.types.is_categorical_dtype(vector):\n",
      "D:\\Anaconda\\Lib\\site-packages\\seaborn\\_oldcore.py:1498: FutureWarning: is_categorical_dtype is deprecated and will be removed in a future version. Use isinstance(dtype, CategoricalDtype) instead\n",
      "  if pd.api.types.is_categorical_dtype(vector):\n",
      "D:\\Anaconda\\Lib\\site-packages\\seaborn\\_oldcore.py:1765: FutureWarning: unique with argument that is not not a Series, Index, ExtensionArray, or np.ndarray is deprecated and will raise in a future version.\n",
      "  order = pd.unique(vector)\n",
      "D:\\Anaconda\\Lib\\site-packages\\seaborn\\_oldcore.py:1498: FutureWarning: is_categorical_dtype is deprecated and will be removed in a future version. Use isinstance(dtype, CategoricalDtype) instead\n",
      "  if pd.api.types.is_categorical_dtype(vector):\n"
     ]
    },
    {
     "data": {
      "image/png": "[encoded data removed]",
      "text/plain": [
       "<Figure size 1000x600 with 1 Axes>"
      ]
     },
     "metadata": {},
     "output_type": "display_data"
    }
   ],
   "source": [
    "x = [\"unique_questions\" , \"Repeated Questions\"]\n",
    "y =  [unique_qids , qs_morethan_onetime]\n",
    "\n",
    "plt.figure(figsize=(10, 6))\n",
    "plt.title (\"Plot representing unique and repeated questions  \")\n",
    "sns.barplot(x=x,y=y)\n",
    "plt.show()"
   ]
  },
  {
   "cell_type": "code",
   "execution_count": 8,
   "id": "9f7fbc8a",
   "metadata": {},
   "outputs": [
    {
     "name": "stdout",
     "output_type": "stream",
     "text": [
      "Number of duplicate questions 0\n"
     ]
    }
   ],
   "source": [
    "# duplicate questions check\n",
    "\n",
    "pair_duplicates = df[['qid1','qid2','is_duplicate']].groupby(['qid1','qid2']).count().reset_index()\n",
    "\n",
    "print (\"Number of duplicate questions\",(pair_duplicates).shape[0] - df.shape[0])"
   ]
  },
  {
   "cell_type": "code",
   "execution_count": 9,
   "id": "b168c2b2",
   "metadata": {},
   "outputs": [
    {
     "name": "stdout",
     "output_type": "stream",
     "text": [
      "Empty DataFrame\n",
      "Columns: [id, qid1, qid2, question1, question2, is_duplicate]\n",
      "Index: []\n"
     ]
    }
   ],
   "source": [
    "# checking rows with NaN(Null) values\n",
    "\n",
    "nan_rows = df[df.isnull().any(axis=1)]\n",
    "print(nan_rows)\n"
   ]
  },
  {
   "cell_type": "markdown",
   "id": "396f9fbe",
   "metadata": {},
   "source": [
    "### Data Cleaning and Stopwords removal"
   ]
  },
  {
   "cell_type": "code",
   "execution_count": 10,
   "id": "f445ae2c",
   "metadata": {},
   "outputs": [],
   "source": [
    "SPECIAL_TOKENS = {\n",
    "    'quoted': 'quoted_item',\n",
    "    'non-ascii': 'non_ascii_word',\n",
    "    'undefined': 'something'\n",
    "}\n",
    "\n",
    "from string import punctuation\n",
    "stop_words = stopwords.words('english')\n",
    "\n",
    "def preprocess(text, stem_words=True):\n",
    "\n",
    "    \n",
    "    if pd.isnull(text):\n",
    "        return ''\n",
    "\n",
    "    if type(text) != str or text=='':\n",
    "        return ''\n",
    "    ps = PorterStemmer()\n",
    "    \n",
    "    text = re.sub(\"\\'s\", \" \", text) \n",
    "    text = re.sub(\" whats \", \" what is \", text, flags=re.IGNORECASE)\n",
    "    text = re.sub(\"\\'ve\", \" have \", text)\n",
    "    text = re.sub(\"can't\", \"can not\", text)\n",
    "    text = re.sub(\"n't\", \" not \", text)\n",
    "    text = re.sub(\"i'm\", \"i am\", text, flags=re.IGNORECASE)\n",
    "    text = re.sub(\"\\'re\", \" are \", text)\n",
    "    text = re.sub(\"\\'d\", \" would \", text)\n",
    "    text = re.sub(\"\\'ll\", \" will \", text)\n",
    "    text = re.sub(\"e\\.g\\.\", \" eg \", text, flags=re.IGNORECASE)\n",
    "    text = re.sub(\"b\\.g\\.\", \" bg \", text, flags=re.IGNORECASE)\n",
    "    text = re.sub(\"(\\d+)(kK)\", \" \\g<1>000 \", text)\n",
    "    text = re.sub(\"e-mail\", \" email \", text, flags=re.IGNORECASE)\n",
    "    text = re.sub(\"(the[\\s]+|The[\\s]+)?U\\.S\\.A\\.\", \" America \", text, flags=re.IGNORECASE)\n",
    "    text = re.sub(\"(the[\\s]+|The[\\s]+)?United State(s)?\", \" America \", text, flags=re.IGNORECASE)\n",
    "    text = re.sub(\"\\(s\\)\", \" \", text, flags=re.IGNORECASE)\n",
    "    text = re.sub(\"[c-fC-F]\\:\\/\", \" disk \", text)\n",
    "    \n",
    "    # remove comma between numbers, i.e. 15,000 -> 15000\n",
    "    \n",
    "    text = re.sub('(?<=[0-9])\\,(?=[0-9])', \"\", text)\n",
    "    text = re.sub('\\$', \" dollar \", text)\n",
    "    text = re.sub('\\%', \" percent \", text)\n",
    "    text = re.sub('\\&', \" and \", text)\n",
    "    \n",
    "       # Return a list of words\n",
    "    text = ' '.join([word for word in text.split(\" \") if word not in stop_words]).lower()\n",
    "    #text = ' '.join([ps.stem(word) for word in text])\n",
    "    return text\n"
   ]
  },
  {
   "cell_type": "code",
   "execution_count": 11,
   "id": "79987771",
   "metadata": {},
   "outputs": [],
   "source": [
    "df['question1'] = df['question1'].apply(preprocess)\n",
    "df['question2'] = df['question2'].apply(preprocess)\n"
   ]
  },
  {
   "cell_type": "code",
   "execution_count": 12,
   "id": "133c0b9c",
   "metadata": {},
   "outputs": [
    {
     "data": {
      "text/html": [
       "<div>\n",
       "<style scoped>\n",
       "    .dataframe tbody tr th:only-of-type {\n",
       "        vertical-align: middle;\n",
       "    }\n",
       "\n",
       "    .dataframe tbody tr th {\n",
       "        vertical-align: top;\n",
       "    }\n",
       "\n",
       "    .dataframe thead th {\n",
       "        text-align: right;\n",
       "    }\n",
       "</style>\n",
       "<table border=\"1\" class=\"dataframe\">\n",
       "  <thead>\n",
       "    <tr style=\"text-align: right;\">\n",
       "      <th></th>\n",
       "      <th>id</th>\n",
       "      <th>qid1</th>\n",
       "      <th>qid2</th>\n",
       "      <th>question1</th>\n",
       "      <th>question2</th>\n",
       "      <th>is_duplicate</th>\n",
       "    </tr>\n",
       "  </thead>\n",
       "  <tbody>\n",
       "    <tr>\n",
       "      <th>0</th>\n",
       "      <td>0</td>\n",
       "      <td>1</td>\n",
       "      <td>2</td>\n",
       "      <td>what step step guide invest share market india?</td>\n",
       "      <td>what step step guide invest share market?</td>\n",
       "      <td>0</td>\n",
       "    </tr>\n",
       "    <tr>\n",
       "      <th>1</th>\n",
       "      <td>1</td>\n",
       "      <td>3</td>\n",
       "      <td>4</td>\n",
       "      <td>what story kohinoor (koh-i-noor) diamond?</td>\n",
       "      <td>what would happen indian government stole kohi...</td>\n",
       "      <td>0</td>\n",
       "    </tr>\n",
       "    <tr>\n",
       "      <th>2</th>\n",
       "      <td>2</td>\n",
       "      <td>5</td>\n",
       "      <td>6</td>\n",
       "      <td>how i increase speed internet connection using...</td>\n",
       "      <td>how internet speed increased hacking dns?</td>\n",
       "      <td>0</td>\n",
       "    </tr>\n",
       "    <tr>\n",
       "      <th>3</th>\n",
       "      <td>3</td>\n",
       "      <td>7</td>\n",
       "      <td>8</td>\n",
       "      <td>why i mentally lonely? how i solve it?</td>\n",
       "      <td>find remainder [math]23^{24}[/math] divided 2423?</td>\n",
       "      <td>0</td>\n",
       "    </tr>\n",
       "    <tr>\n",
       "      <th>4</th>\n",
       "      <td>4</td>\n",
       "      <td>9</td>\n",
       "      <td>10</td>\n",
       "      <td>which one dissolve water quikly sugar, salt, m...</td>\n",
       "      <td>which fish would survive salt water?</td>\n",
       "      <td>0</td>\n",
       "    </tr>\n",
       "  </tbody>\n",
       "</table>\n",
       "</div>"
      ],
      "text/plain": [
       "   id  qid1  qid2                                          question1  \\\n",
       "0   0     1     2    what step step guide invest share market india?   \n",
       "1   1     3     4          what story kohinoor (koh-i-noor) diamond?   \n",
       "2   2     5     6  how i increase speed internet connection using...   \n",
       "3   3     7     8             why i mentally lonely? how i solve it?   \n",
       "4   4     9    10  which one dissolve water quikly sugar, salt, m...   \n",
       "\n",
       "                                           question2  is_duplicate  \n",
       "0          what step step guide invest share market?             0  \n",
       "1  what would happen indian government stole kohi...             0  \n",
       "2          how internet speed increased hacking dns?             0  \n",
       "3  find remainder [math]23^{24}[/math] divided 2423?             0  \n",
       "4               which fish would survive salt water?             0  "
      ]
     },
     "execution_count": 12,
     "metadata": {},
     "output_type": "execute_result"
    }
   ],
   "source": [
    "df.head()"
   ]
  },
  {
   "cell_type": "markdown",
   "id": "2d3fe15f",
   "metadata": {},
   "source": [
    "### Tokenization using pre-trained models/techniques"
   ]
  },
  {
   "cell_type": "code",
   "execution_count": 16,
   "id": "1a58b960",
   "metadata": {},
   "outputs": [],
   "source": [
    "model = gensim.models.KeyedVectors.load_word2vec_format('./GoogleNews-vectors-negative300.bin', binary=True)\n"
   ]
  },
  {
   "cell_type": "code",
   "execution_count": 20,
   "id": "d3f68ee0",
   "metadata": {},
   "outputs": [],
   "source": [
    "def sent2vec(s):\n",
    "    words = str(s).lower() #lower the sentence\n",
    "    words = word_tokenize(words) #tokenize the sentence\n",
    "    words = [w for w in words if not w in stop_words] #Filter out the stop words\n",
    "    words = [w for w in words if w.isalpha()] #Filter out non-alpha characters\n",
    "    M = []\n",
    "    for w in words:#loop through each word in the sentence\n",
    "        try:\n",
    "            M.append(model[w])#Gensim model converts each word in the sentence to a 300-dim vector space and appends to a list.\n",
    "        except:\n",
    "            continue\n",
    "    M = np.array(M) #convert the list to array. Shape = (num_of_words_in_sentence,300)\n",
    "    v = M.sum(axis=0) #Sum up along the num_of_words_in_sentence through 300-dim. Shape = (1,300) \n",
    "    return v / np.sqrt((v ** 2).sum()) #normalize the values with the sum\n"
   ]
  },
  {
   "cell_type": "code",
   "execution_count": 21,
   "id": "8e0fb10f",
   "metadata": {},
   "outputs": [
    {
     "name": "stderr",
     "output_type": "stream",
     "text": [
      "C:\\Users\\Akhil\\AppData\\Local\\Temp\\ipykernel_6412\\153115473.py:2: TqdmDeprecationWarning: This function will be removed in tqdm==5.0.0\n",
      "Please use `tqdm.notebook.tqdm` instead of `tqdm.tqdm_notebook`\n",
      "  for i, q in enumerate(tqdm_notebook(df.question1.values)):\n"
     ]
    },
    {
     "data": {
      "application/vnd.jupyter.widget-view+json": {
       "model_id": "8e6488244e6d400eaf3ef7e82c277c31",
       "version_major": 2,
       "version_minor": 0
      },
      "text/plain": [
       "  0%|          | 0/404290 [00:00<?, ?it/s]"
      ]
     },
     "metadata": {},
     "output_type": "display_data"
    },
    {
     "name": "stderr",
     "output_type": "stream",
     "text": [
      "C:\\Users\\Akhil\\AppData\\Local\\Temp\\ipykernel_6412\\502398111.py:14: RuntimeWarning: invalid value encountered in scalar divide\n",
      "  return v / np.sqrt((v ** 2).sum()) #normalize the values with the sum\n",
      "C:\\Users\\Akhil\\AppData\\Local\\Temp\\ipykernel_6412\\153115473.py:6: TqdmDeprecationWarning: This function will be removed in tqdm==5.0.0\n",
      "Please use `tqdm.notebook.tqdm` instead of `tqdm.tqdm_notebook`\n",
      "  for i, q in enumerate(tqdm_notebook(df.question2.values)):\n"
     ]
    },
    {
     "data": {
      "application/vnd.jupyter.widget-view+json": {
       "model_id": "f6c9eb09f05041d2a49a2b54cf3252cf",
       "version_major": 2,
       "version_minor": 0
      },
      "text/plain": [
       "  0%|          | 0/404290 [00:00<?, ?it/s]"
      ]
     },
     "metadata": {},
     "output_type": "display_data"
    }
   ],
   "source": [
    "\n",
    "question1_vectors = np.zeros((df.shape[0], 300)) #vector matrix of shape = (num_of_rows,300) for question 1\n",
    "for i, q in enumerate(tqdm_notebook(df.question1.values)):\n",
    "    question1_vectors[i, :] = sent2vec(q) #function call for each question 1\n",
    "    \n",
    "question2_vectors  = np.zeros((df.shape[0], 300)) #vector matrix of shape = (num_of_rows,300) for question 2\n",
    "for i, q in enumerate(tqdm_notebook(df.question2.values)):\n",
    "    question2_vectors[i, :] = sent2vec(q) #function call for each question 2"
   ]
  },
  {
   "cell_type": "markdown",
   "id": "dc28c533",
   "metadata": {},
   "source": [
    "### taking Necessary Ratios and values to train the learning model"
   ]
  },
  {
   "cell_type": "code",
   "execution_count": 22,
   "id": "5f68b145",
   "metadata": {},
   "outputs": [],
   "source": [
    "df['len_q1'] = df.question1.apply(lambda x: len(str(x)))\n",
    "df['len_q2'] = df.question2.apply(lambda x: len(str(x)))\n",
    "df['common_words'] = df.apply(lambda x: len(set(str(x['question1']).lower().split()).intersection(set(str(x['question2']).lower().split()))), axis=1)\n"
   ]
  },
  {
   "cell_type": "code",
   "execution_count": 23,
   "id": "58d2f626",
   "metadata": {},
   "outputs": [],
   "source": [
    "df['fuzz_ratio'] = df.apply(lambda x: fuzz.ratio(str(x['question1']), str(x['question2'])), axis=1)\n",
    "df['fuzz_partial_ratio'] = df.apply(lambda x: fuzz.partial_ratio(str(x['question1']), str(x['question2'])), axis=1)\n",
    "df['fuzz_partial_token_set_ratio'] = df.apply(lambda x: fuzz.partial_token_set_ratio(str(x['question1']), str(x['question2'])), axis=1)\n",
    "df['fuzz_partial_token_sort_ratio'] = df.apply(lambda x: fuzz.partial_token_sort_ratio(str(x['question1']), str(x['question2'])), axis=1)\n"
   ]
  },
  {
   "cell_type": "code",
   "execution_count": 24,
   "id": "a0e522bb",
   "metadata": {},
   "outputs": [],
   "source": [
    "df['fuzz_token_set_ratio'] = df.apply(lambda x: fuzz.token_set_ratio(str(x['question1']), str(x['question2'])), axis=1)\n",
    "df['fuzz_token_sort_ratio'] = df.apply(lambda x: fuzz.token_sort_ratio(str(x['question1']), str(x['question2'])), axis=1)\n"
   ]
  },
  {
   "cell_type": "code",
   "execution_count": 25,
   "id": "92056c03",
   "metadata": {},
   "outputs": [
    {
     "name": "stderr",
     "output_type": "stream",
     "text": [
      "D:\\Anaconda\\Lib\\site-packages\\scipy\\spatial\\distance.py:622: RuntimeWarning: invalid value encountered in scalar divide\n",
      "  dist = 1.0 - uv / np.sqrt(uu * vv)\n"
     ]
    }
   ],
   "source": [
    "df['cosine_distance'] = [cosine(x, y) for (x, y) in zip(np.nan_to_num(question1_vectors), np.nan_to_num(question2_vectors))]\n",
    "df['cityblock_distance'] = [cityblock(x, y) for (x, y) in zip(np.nan_to_num(question1_vectors), np.nan_to_num(question2_vectors))]\n",
    "df['jaccard_distance'] = [jaccard(x, y) for (x, y) in zip(np.nan_to_num(question1_vectors), np.nan_to_num(question2_vectors))]\n"
   ]
  },
  {
   "cell_type": "code",
   "execution_count": 26,
   "id": "5654ff56",
   "metadata": {},
   "outputs": [
    {
     "name": "stderr",
     "output_type": "stream",
     "text": [
      "D:\\Anaconda\\Lib\\site-packages\\scipy\\spatial\\distance.py:1157: RuntimeWarning: invalid value encountered in scalar divide\n",
      "  return l1_diff.sum() / l1_sum.sum()\n"
     ]
    }
   ],
   "source": [
    "df['canberra_distance'] = [canberra(x, y) for (x, y) in zip(np.nan_to_num(question1_vectors), np.nan_to_num(question2_vectors))]\n",
    "df['euclidean_distance'] = [euclidean(x, y) for (x, y) in zip(np.nan_to_num(question1_vectors), np.nan_to_num(question2_vectors))]\n",
    "df['minkowski_distance'] = [minkowski(x, y, 3) for (x, y) in zip(np.nan_to_num(question1_vectors), np.nan_to_num(question2_vectors))]\n",
    "df['braycurtis_distance'] = [braycurtis(x, y) for (x, y) in zip(np.nan_to_num(question1_vectors), np.nan_to_num(question2_vectors))]"
   ]
  },
  {
   "cell_type": "code",
   "execution_count": 27,
   "id": "60c409a8",
   "metadata": {},
   "outputs": [
    {
     "data": {
      "text/html": [
       "<div>\n",
       "<style scoped>\n",
       "    .dataframe tbody tr th:only-of-type {\n",
       "        vertical-align: middle;\n",
       "    }\n",
       "\n",
       "    .dataframe tbody tr th {\n",
       "        vertical-align: top;\n",
       "    }\n",
       "\n",
       "    .dataframe thead th {\n",
       "        text-align: right;\n",
       "    }\n",
       "</style>\n",
       "<table border=\"1\" class=\"dataframe\">\n",
       "  <thead>\n",
       "    <tr style=\"text-align: right;\">\n",
       "      <th></th>\n",
       "      <th>id</th>\n",
       "      <th>qid1</th>\n",
       "      <th>qid2</th>\n",
       "      <th>question1</th>\n",
       "      <th>question2</th>\n",
       "      <th>is_duplicate</th>\n",
       "      <th>len_q1</th>\n",
       "      <th>len_q2</th>\n",
       "      <th>common_words</th>\n",
       "      <th>fuzz_ratio</th>\n",
       "      <th>...</th>\n",
       "      <th>fuzz_partial_token_sort_ratio</th>\n",
       "      <th>fuzz_token_set_ratio</th>\n",
       "      <th>fuzz_token_sort_ratio</th>\n",
       "      <th>cosine_distance</th>\n",
       "      <th>cityblock_distance</th>\n",
       "      <th>jaccard_distance</th>\n",
       "      <th>canberra_distance</th>\n",
       "      <th>euclidean_distance</th>\n",
       "      <th>minkowski_distance</th>\n",
       "      <th>braycurtis_distance</th>\n",
       "    </tr>\n",
       "  </thead>\n",
       "  <tbody>\n",
       "    <tr>\n",
       "      <th>0</th>\n",
       "      <td>0</td>\n",
       "      <td>1</td>\n",
       "      <td>2</td>\n",
       "      <td>what step step guide invest share market india?</td>\n",
       "      <td>what step step guide invest share market?</td>\n",
       "      <td>0</td>\n",
       "      <td>47</td>\n",
       "      <td>41</td>\n",
       "      <td>5</td>\n",
       "      <td>93</td>\n",
       "      <td>...</td>\n",
       "      <td>92</td>\n",
       "      <td>100</td>\n",
       "      <td>93</td>\n",
       "      <td>0.068972</td>\n",
       "      <td>5.081614</td>\n",
       "      <td>1.0</td>\n",
       "      <td>94.023324</td>\n",
       "      <td>0.371408</td>\n",
       "      <td>0.168999</td>\n",
       "      <td>0.186557</td>\n",
       "    </tr>\n",
       "    <tr>\n",
       "      <th>1</th>\n",
       "      <td>1</td>\n",
       "      <td>3</td>\n",
       "      <td>4</td>\n",
       "      <td>what story kohinoor (koh-i-noor) diamond?</td>\n",
       "      <td>what would happen indian government stole kohi...</td>\n",
       "      <td>0</td>\n",
       "      <td>41</td>\n",
       "      <td>77</td>\n",
       "      <td>3</td>\n",
       "      <td>66</td>\n",
       "      <td>...</td>\n",
       "      <td>82</td>\n",
       "      <td>91</td>\n",
       "      <td>64</td>\n",
       "      <td>0.512164</td>\n",
       "      <td>14.195119</td>\n",
       "      <td>1.0</td>\n",
       "      <td>177.588090</td>\n",
       "      <td>1.012091</td>\n",
       "      <td>0.455910</td>\n",
       "      <td>0.592655</td>\n",
       "    </tr>\n",
       "    <tr>\n",
       "      <th>2</th>\n",
       "      <td>2</td>\n",
       "      <td>5</td>\n",
       "      <td>6</td>\n",
       "      <td>how i increase speed internet connection using...</td>\n",
       "      <td>how internet speed increased hacking dns?</td>\n",
       "      <td>0</td>\n",
       "      <td>51</td>\n",
       "      <td>41</td>\n",
       "      <td>3</td>\n",
       "      <td>48</td>\n",
       "      <td>...</td>\n",
       "      <td>80</td>\n",
       "      <td>67</td>\n",
       "      <td>67</td>\n",
       "      <td>0.222009</td>\n",
       "      <td>9.055989</td>\n",
       "      <td>1.0</td>\n",
       "      <td>135.988707</td>\n",
       "      <td>0.666346</td>\n",
       "      <td>0.307828</td>\n",
       "      <td>0.342306</td>\n",
       "    </tr>\n",
       "    <tr>\n",
       "      <th>3</th>\n",
       "      <td>3</td>\n",
       "      <td>7</td>\n",
       "      <td>8</td>\n",
       "      <td>why i mentally lonely? how i solve it?</td>\n",
       "      <td>find remainder [math]23^{24}[/math] divided 2423?</td>\n",
       "      <td>0</td>\n",
       "      <td>38</td>\n",
       "      <td>49</td>\n",
       "      <td>0</td>\n",
       "      <td>11</td>\n",
       "      <td>...</td>\n",
       "      <td>29</td>\n",
       "      <td>28</td>\n",
       "      <td>25</td>\n",
       "      <td>0.650411</td>\n",
       "      <td>15.987437</td>\n",
       "      <td>1.0</td>\n",
       "      <td>192.237828</td>\n",
       "      <td>1.140536</td>\n",
       "      <td>0.506028</td>\n",
       "      <td>0.692421</td>\n",
       "    </tr>\n",
       "    <tr>\n",
       "      <th>4</th>\n",
       "      <td>4</td>\n",
       "      <td>9</td>\n",
       "      <td>10</td>\n",
       "      <td>which one dissolve water quikly sugar, salt, m...</td>\n",
       "      <td>which fish would survive salt water?</td>\n",
       "      <td>0</td>\n",
       "      <td>69</td>\n",
       "      <td>36</td>\n",
       "      <td>1</td>\n",
       "      <td>34</td>\n",
       "      <td>...</td>\n",
       "      <td>71</td>\n",
       "      <td>63</td>\n",
       "      <td>48</td>\n",
       "      <td>0.369993</td>\n",
       "      <td>12.103178</td>\n",
       "      <td>1.0</td>\n",
       "      <td>161.408435</td>\n",
       "      <td>0.860225</td>\n",
       "      <td>0.382770</td>\n",
       "      <td>0.480633</td>\n",
       "    </tr>\n",
       "  </tbody>\n",
       "</table>\n",
       "<p>5 rows × 22 columns</p>\n",
       "</div>"
      ],
      "text/plain": [
       "   id  qid1  qid2                                          question1  \\\n",
       "0   0     1     2    what step step guide invest share market india?   \n",
       "1   1     3     4          what story kohinoor (koh-i-noor) diamond?   \n",
       "2   2     5     6  how i increase speed internet connection using...   \n",
       "3   3     7     8             why i mentally lonely? how i solve it?   \n",
       "4   4     9    10  which one dissolve water quikly sugar, salt, m...   \n",
       "\n",
       "                                           question2  is_duplicate  len_q1  \\\n",
       "0          what step step guide invest share market?             0      47   \n",
       "1  what would happen indian government stole kohi...             0      41   \n",
       "2          how internet speed increased hacking dns?             0      51   \n",
       "3  find remainder [math]23^{24}[/math] divided 2423?             0      38   \n",
       "4               which fish would survive salt water?             0      69   \n",
       "\n",
       "   len_q2  common_words  fuzz_ratio  ...  fuzz_partial_token_sort_ratio  \\\n",
       "0      41             5          93  ...                             92   \n",
       "1      77             3          66  ...                             82   \n",
       "2      41             3          48  ...                             80   \n",
       "3      49             0          11  ...                             29   \n",
       "4      36             1          34  ...                             71   \n",
       "\n",
       "   fuzz_token_set_ratio  fuzz_token_sort_ratio  cosine_distance  \\\n",
       "0                   100                     93         0.068972   \n",
       "1                    91                     64         0.512164   \n",
       "2                    67                     67         0.222009   \n",
       "3                    28                     25         0.650411   \n",
       "4                    63                     48         0.369993   \n",
       "\n",
       "   cityblock_distance  jaccard_distance  canberra_distance  \\\n",
       "0            5.081614               1.0          94.023324   \n",
       "1           14.195119               1.0         177.588090   \n",
       "2            9.055989               1.0         135.988707   \n",
       "3           15.987437               1.0         192.237828   \n",
       "4           12.103178               1.0         161.408435   \n",
       "\n",
       "   euclidean_distance  minkowski_distance  braycurtis_distance  \n",
       "0            0.371408            0.168999             0.186557  \n",
       "1            1.012091            0.455910             0.592655  \n",
       "2            0.666346            0.307828             0.342306  \n",
       "3            1.140536            0.506028             0.692421  \n",
       "4            0.860225            0.382770             0.480633  \n",
       "\n",
       "[5 rows x 22 columns]"
      ]
     },
     "execution_count": 27,
     "metadata": {},
     "output_type": "execute_result"
    }
   ],
   "source": [
    "df.head()"
   ]
  },
  {
   "cell_type": "code",
   "execution_count": 28,
   "id": "a99e65ae",
   "metadata": {},
   "outputs": [],
   "source": [
    "df.to_csv('final_features.csv')"
   ]
  }
 ],
 "metadata": {
  "kernelspec": {
   "display_name": "Python 3 (ipykernel)",
   "language": "python",
   "name": "python3"
  },
  "language_info": {
   "codemirror_mode": {
    "name": "ipython",
    "version": 3
   },
   "file_extension": ".py",
   "mimetype": "text/x-python",
   "name": "python",
   "nbconvert_exporter": "python",
   "pygments_lexer": "ipython3",
   "version": "3.11.3"
  }
 },
 "nbformat": 4,
 "nbformat_minor": 5
}
